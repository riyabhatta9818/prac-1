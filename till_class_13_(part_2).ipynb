{
  "nbformat": 4,
  "nbformat_minor": 0,
  "metadata": {
    "colab": {
      "provenance": []
    },
    "kernelspec": {
      "name": "python3",
      "display_name": "Python 3"
    },
    "language_info": {
      "name": "python"
    }
  },
  "cells": [
    {
      "cell_type": "markdown",
      "source": [
        "# If number is equal to 10 enter \"the number is 10\" else \"enter the number is not 10\"."
      ],
      "metadata": {
        "id": "H4yfNDxi_amb"
      }
    },
    {
      "cell_type": "code",
      "source": [
        "def word(num):\n",
        "    num=int(input(\"enter a number:\"))\n",
        "    if num == 10:\n",
        "        print(\"the number is 10\")\n",
        "    \n",
        "    else:\n",
        "        print(\"the number is not 10\")    "
      ],
      "metadata": {
        "id": "vRegLpPh_KlG"
      },
      "execution_count": null,
      "outputs": []
    },
    {
      "cell_type": "code",
      "source": [
        "print(word(num))"
      ],
      "metadata": {
        "colab": {
          "base_uri": "https://localhost:8080/"
        },
        "id": "-XF0oOdN_Tz_",
        "outputId": "502b9ac0-0942-4292-e537-ecbff0dbd007"
      },
      "execution_count": null,
      "outputs": [
        {
          "output_type": "stream",
          "name": "stdout",
          "text": [
            "enter a number: 10\n",
            "the number is 10\n",
            "None\n"
          ]
        }
      ]
    },
    {
      "cell_type": "code",
      "source": [
        "num=[10,2,4]"
      ],
      "metadata": {
        "id": "ibNmTN114pr4"
      },
      "execution_count": null,
      "outputs": []
    },
    {
      "cell_type": "code",
      "source": [
        "\n",
        "[0 if item==10 else item for item in num]"
      ],
      "metadata": {
        "colab": {
          "base_uri": "https://localhost:8080/"
        },
        "id": "UyX7hEuW4vwd",
        "outputId": "1c526fbd-4999-4754-ac39-677053b12efc"
      },
      "execution_count": null,
      "outputs": [
        {
          "output_type": "execute_result",
          "data": {
            "text/plain": [
              "[0, 2, 4]"
            ]
          },
          "metadata": {},
          "execution_count": 14
        }
      ]
    },
    {
      "cell_type": "code",
      "source": [
        "# If the number is positive enter \"positive\" else enter \"negative\"."
      ],
      "metadata": {
        "id": "V_jWZ-XXAHGv"
      },
      "execution_count": null,
      "outputs": []
    },
    {
      "cell_type": "code",
      "source": [
        "def ok(num):\n",
        "    num=int(input(\"enter a number\"))\n",
        "    if num>=0:\n",
        "        print(\"positive\")\n",
        "\n",
        "    else:\n",
        "        print(\"negative\")"
      ],
      "metadata": {
        "id": "aPR7PXy13ekO"
      },
      "execution_count": null,
      "outputs": []
    },
    {
      "cell_type": "code",
      "source": [
        "print(ok(num))"
      ],
      "metadata": {
        "colab": {
          "base_uri": "https://localhost:8080/"
        },
        "id": "xHc6gHLQABnb",
        "outputId": "fd6b39d8-fbd5-4bc6-e456-217ba56b2eef"
      },
      "execution_count": null,
      "outputs": [
        {
          "output_type": "stream",
          "name": "stdout",
          "text": [
            "enter a number -9\n",
            "negative\n",
            "None\n"
          ]
        }
      ]
    },
    {
      "cell_type": "code",
      "source": [
        "num=[1,-2,6,-0]"
      ],
      "metadata": {
        "id": "axGS8FHO4bu3"
      },
      "execution_count": null,
      "outputs": []
    },
    {
      "cell_type": "code",
      "source": [
        "[0 if item>=0 else item for item in num]"
      ],
      "metadata": {
        "colab": {
          "base_uri": "https://localhost:8080/"
        },
        "id": "0IHgbNjs3x74",
        "outputId": "cf1c6044-f327-4899-fafb-5cf75637f136"
      },
      "execution_count": null,
      "outputs": [
        {
          "output_type": "execute_result",
          "data": {
            "text/plain": [
              "[0, -2, 0, 0]"
            ]
          },
          "metadata": {},
          "execution_count": 14
        }
      ]
    },
    {
      "cell_type": "markdown",
      "source": [
        "# enter \"hello\" if the given number is divisible by 5 else enter \"bye\""
      ],
      "metadata": {
        "id": "UE33lvAO-4uc"
      }
    },
    {
      "cell_type": "code",
      "source": [
        "def txt(num):\n",
        "    num=int(input(\"enter a number\"))\n",
        "    if num % 5==0:\n",
        "        print(\"hello\")\n",
        "    else:\n",
        "        print(\"bye\")    "
      ],
      "metadata": {
        "id": "acW2ClS9-tRK"
      },
      "execution_count": null,
      "outputs": []
    },
    {
      "cell_type": "code",
      "source": [
        "print(txt(num))"
      ],
      "metadata": {
        "colab": {
          "base_uri": "https://localhost:8080/"
        },
        "id": "ACQgvcCa-wK4",
        "outputId": "0863ce83-27c3-4cc4-9e8d-3c5c546f4efc"
      },
      "execution_count": null,
      "outputs": [
        {
          "output_type": "stream",
          "name": "stdout",
          "text": [
            "enter a number 8\n",
            "bye\n",
            "None\n"
          ]
        }
      ]
    },
    {
      "cell_type": "code",
      "source": [
        "num=[5,10,15,23]"
      ],
      "metadata": {
        "id": "pdiy_Mfw9dLe"
      },
      "execution_count": null,
      "outputs": []
    },
    {
      "cell_type": "code",
      "source": [
        "[0 if item % 5==0 else item for item in num]"
      ],
      "metadata": {
        "colab": {
          "base_uri": "https://localhost:8080/"
        },
        "id": "D4Tj40Iw9ntS",
        "outputId": "9b71e33a-e6b6-4ca1-91da-56bbfdda4dc8"
      },
      "execution_count": null,
      "outputs": [
        {
          "output_type": "execute_result",
          "data": {
            "text/plain": [
              "[0, 0, 0, 23]"
            ]
          },
          "metadata": {},
          "execution_count": 5
        }
      ]
    },
    {
      "cell_type": "code",
      "source": [
        "# print lekhda tyasko type class aaunxa\n",
        "response=\"hey hey\"\n",
        "print(type(response))"
      ],
      "metadata": {
        "colab": {
          "base_uri": "https://localhost:8080/"
        },
        "id": "r8a1Grcx-gjj",
        "outputId": "97894d7f-327d-4c5d-c0f3-88a7f1992f95"
      },
      "execution_count": null,
      "outputs": [
        {
          "output_type": "stream",
          "name": "stdout",
          "text": [
            "<class 'str'>\n"
          ]
        }
      ]
    },
    {
      "cell_type": "code",
      "source": [
        "# multiple string lekhna ko lagi triple code use garne\n",
        "a='''hey, my name is riya.\n",
        "i live in ktm.'''"
      ],
      "metadata": {
        "id": "QHX64bVfBTpz"
      },
      "execution_count": null,
      "outputs": []
    },
    {
      "cell_type": "code",
      "source": [
        "print(a)"
      ],
      "metadata": {
        "colab": {
          "base_uri": "https://localhost:8080/"
        },
        "id": "qu-ysEsmBvVz",
        "outputId": "115701e6-c0ce-4f03-997f-41b70dc24e10"
      },
      "execution_count": null,
      "outputs": [
        {
          "output_type": "stream",
          "name": "stdout",
          "text": [
            "hey, my name is riya.\n",
            "i live in ktm.\n"
          ]
        }
      ]
    },
    {
      "cell_type": "code",
      "source": [
        "# OR \\n lekhda ni hunxa\n",
        "s='my name is riya\\nand i live in ktm'"
      ],
      "metadata": {
        "id": "_f4UKWOzBwwk"
      },
      "execution_count": null,
      "outputs": []
    },
    {
      "cell_type": "code",
      "source": [
        "print(s)"
      ],
      "metadata": {
        "colab": {
          "base_uri": "https://localhost:8080/"
        },
        "id": "N6cRu6BgCBnk",
        "outputId": "4a1cdc03-d8bc-4388-b2fd-d0bba231b632"
      },
      "execution_count": null,
      "outputs": [
        {
          "output_type": "stream",
          "name": "stdout",
          "text": [
            "my name is riya\n",
            "and i live in ktm\n"
          ]
        }
      ]
    },
    {
      "cell_type": "code",
      "source": [
        "# assert is used in data validation\n",
        "# valiation(the action of checking or proving the validity or accuracy of something.)\n",
        "msg1='apple'\n",
        "msg2=\"apple\"\n",
        "assert msg1==msg2"
      ],
      "metadata": {
        "id": "cSBSVV2zPnqN"
      },
      "execution_count": null,
      "outputs": []
    },
    {
      "cell_type": "markdown",
      "source": [
        "**INDEXING**"
      ],
      "metadata": {
        "id": "wZ0yfCNqCpvo"
      }
    },
    {
      "cell_type": "code",
      "source": [
        "s='riyabhatta'"
      ],
      "metadata": {
        "id": "LTp-81ClC_PB"
      },
      "execution_count": null,
      "outputs": []
    },
    {
      "cell_type": "code",
      "source": [
        "s[1]"
      ],
      "metadata": {
        "colab": {
          "base_uri": "https://localhost:8080/",
          "height": 36
        },
        "id": "arQlpxPvDBM2",
        "outputId": "49db5c63-a8ee-4009-ce1e-46710a96f292"
      },
      "execution_count": null,
      "outputs": [
        {
          "output_type": "execute_result",
          "data": {
            "text/plain": [
              "'i'"
            ],
            "application/vnd.google.colaboratory.intrinsic+json": {
              "type": "string"
            }
          },
          "metadata": {},
          "execution_count": 34
        }
      ]
    },
    {
      "cell_type": "markdown",
      "source": [
        "**NEGATIVE** **INDEXING**"
      ],
      "metadata": {
        "id": "OlJqVoVMDfcM"
      }
    },
    {
      "cell_type": "code",
      "source": [
        "s[-1]"
      ],
      "metadata": {
        "colab": {
          "base_uri": "https://localhost:8080/",
          "height": 36
        },
        "id": "ycb76Yh7DaKP",
        "outputId": "c954e733-b1eb-49e5-8817-882cda54247c"
      },
      "execution_count": null,
      "outputs": [
        {
          "output_type": "execute_result",
          "data": {
            "text/plain": [
              "'a'"
            ],
            "application/vnd.google.colaboratory.intrinsic+json": {
              "type": "string"
            }
          },
          "metadata": {},
          "execution_count": 35
        }
      ]
    },
    {
      "cell_type": "markdown",
      "source": [
        "**SLICING**"
      ],
      "metadata": {
        "id": "aI32ddW6DEHC"
      }
    },
    {
      "cell_type": "code",
      "source": [
        "s[0:10]"
      ],
      "metadata": {
        "colab": {
          "base_uri": "https://localhost:8080/",
          "height": 36
        },
        "id": "HUFQRldyDH7C",
        "outputId": "55f7f762-007f-47cb-9f51-e4e73c8211a8"
      },
      "execution_count": null,
      "outputs": [
        {
          "output_type": "execute_result",
          "data": {
            "text/plain": [
              "'riyabhatta'"
            ],
            "application/vnd.google.colaboratory.intrinsic+json": {
              "type": "string"
            }
          },
          "metadata": {},
          "execution_count": 36
        }
      ]
    },
    {
      "cell_type": "code",
      "source": [
        "len(s)"
      ],
      "metadata": {
        "colab": {
          "base_uri": "https://localhost:8080/"
        },
        "id": "cQNbqLlgDK5t",
        "outputId": "1435b514-bf34-4163-a648-a2fe17cd9e7c"
      },
      "execution_count": null,
      "outputs": [
        {
          "output_type": "execute_result",
          "data": {
            "text/plain": [
              "10"
            ]
          },
          "metadata": {},
          "execution_count": 37
        }
      ]
    },
    {
      "cell_type": "code",
      "source": [
        "s[-8:] # pachadi bata indexing garda 8 'y' ma aaunxa ani negative slicing garera tya dekhi ko letter print vako"
      ],
      "metadata": {
        "colab": {
          "base_uri": "https://localhost:8080/",
          "height": 36
        },
        "id": "eTI0KZibDPl2",
        "outputId": "05a87472-878d-4bb5-a930-40e5c2414672"
      },
      "execution_count": null,
      "outputs": [
        {
          "output_type": "execute_result",
          "data": {
            "text/plain": [
              "'yabhatta'"
            ],
            "application/vnd.google.colaboratory.intrinsic+json": {
              "type": "string"
            }
          },
          "metadata": {},
          "execution_count": 38
        }
      ]
    },
    {
      "cell_type": "code",
      "source": [
        "s[:10]"
      ],
      "metadata": {
        "colab": {
          "base_uri": "https://localhost:8080/",
          "height": 36
        },
        "id": "YaUPsu62EAyE",
        "outputId": "d633d5a3-089e-4585-efd9-1a79a2539ca9"
      },
      "execution_count": null,
      "outputs": [
        {
          "output_type": "execute_result",
          "data": {
            "text/plain": [
              "'riyabhatta'"
            ],
            "application/vnd.google.colaboratory.intrinsic+json": {
              "type": "string"
            }
          },
          "metadata": {},
          "execution_count": 39
        }
      ]
    },
    {
      "cell_type": "markdown",
      "source": [
        " **LOOPING**"
      ],
      "metadata": {
        "id": "A3nawSKTEKzF"
      }
    },
    {
      "cell_type": "code",
      "source": [
        "s='riyabhatta'\n",
        "for index in range(len(s)):\n",
        "    letter =s[index]\n",
        "    print(f\"index={index} and letter={letter}\")"
      ],
      "metadata": {
        "colab": {
          "base_uri": "https://localhost:8080/"
        },
        "id": "M9Pl9tZMECZs",
        "outputId": "a4f32681-9d35-4cf5-ca80-85acf74dee16"
      },
      "execution_count": null,
      "outputs": [
        {
          "output_type": "stream",
          "name": "stdout",
          "text": [
            "index=0 and letter=r\n",
            "index=1 and letter=i\n",
            "index=2 and letter=y\n",
            "index=3 and letter=a\n",
            "index=4 and letter=b\n",
            "index=5 and letter=h\n",
            "index=6 and letter=a\n",
            "index=7 and letter=t\n",
            "index=8 and letter=t\n",
            "index=9 and letter=a\n"
          ]
        }
      ]
    },
    {
      "cell_type": "code",
      "source": [
        "# negative looping\n",
        "s='riyabhatta'\n",
        "for index in range(len(s)-1,-1,-1):\n",
        "    letter =s[index]\n",
        "    print(f\"index={index} and letter={letter}\")"
      ],
      "metadata": {
        "colab": {
          "base_uri": "https://localhost:8080/"
        },
        "outputId": "813820d0-8481-4d9d-a917-24056240c4f6",
        "id": "dbtuVAYGFw84"
      },
      "execution_count": null,
      "outputs": [
        {
          "output_type": "stream",
          "name": "stdout",
          "text": [
            "index=9 and letter=a\n",
            "index=8 and letter=t\n",
            "index=7 and letter=t\n",
            "index=6 and letter=a\n",
            "index=5 and letter=h\n",
            "index=4 and letter=b\n",
            "index=3 and letter=a\n",
            "index=2 and letter=y\n",
            "index=1 and letter=i\n",
            "index=0 and letter=r\n"
          ]
        }
      ]
    },
    {
      "cell_type": "markdown",
      "source": [
        "**LIST**-\n",
        "* **collection of item under one variable name**\n",
        "* **supports** **multiple** **data** **type**\n",
        "* **ordered**\n",
        "* **indexed**\n",
        "* **allows duplicate value** \n",
        " "
      ],
      "metadata": {
        "id": "FuekOiHtkTUb"
      }
    },
    {
      "cell_type": "code",
      "source": [
        "names=['riya','rita','sita','gita']\n",
        "for index in range(len(names)):\n",
        "    name=names[index]\n",
        "    print(index,name)\n"
      ],
      "metadata": {
        "colab": {
          "base_uri": "https://localhost:8080/"
        },
        "id": "aFALMNSjXUm-",
        "outputId": "cc59782e-000a-4e14-9a16-66818f13fe63"
      },
      "execution_count": null,
      "outputs": [
        {
          "output_type": "stream",
          "name": "stdout",
          "text": [
            "0 riya\n",
            "1 rita\n",
            "2 sita\n",
            "3 gita\n"
          ]
        }
      ]
    },
    {
      "cell_type": "markdown",
      "source": [
        "**WAP to print vowel and consonant in the given word**"
      ],
      "metadata": {
        "id": "KOgRJkRdIgjP"
      }
    },
    {
      "cell_type": "code",
      "source": [
        "s='hello world'\n",
        "for index in range(len(s)):\n",
        "    letter=s[index]\n",
        "    if letter=='a' or letter=='e' or letter=='i' or letter=='o' or letter=='u':\n",
        "        print(f\"{letter} = vowel\")\n",
        "    elif letter==' ':\n",
        "        continue \n",
        "    else:\n",
        "        print(f\"{letter} = consonant\")      "
      ],
      "metadata": {
        "colab": {
          "base_uri": "https://localhost:8080/"
        },
        "id": "e_4o7SAMGax-",
        "outputId": "c1ab6a90-6106-42dd-a437-633640ae7715"
      },
      "execution_count": null,
      "outputs": [
        {
          "output_type": "stream",
          "name": "stdout",
          "text": [
            "h = consonant\n",
            "e = vowel\n",
            "l = consonant\n",
            "l = consonant\n",
            "o = vowel\n",
            "w = consonant\n",
            "o = vowel\n",
            "r = consonant\n",
            "l = consonant\n",
            "d = consonant\n"
          ]
        }
      ]
    },
    {
      "cell_type": "markdown",
      "source": [
        "**break le 3 vanda pachadi ko num ledaiana**"
      ],
      "metadata": {
        "id": "tmvIbG7FJS0m"
      }
    },
    {
      "cell_type": "code",
      "source": [
        "for index in range(9):\n",
        "    if index == 3:\n",
        "        break\n",
        "    print(index)    \n",
        "    "
      ],
      "metadata": {
        "colab": {
          "base_uri": "https://localhost:8080/"
        },
        "id": "k5VmHYPnIbPB",
        "outputId": "7b0efb21-9e58-40b8-ada6-d0b90c4369d9"
      },
      "execution_count": null,
      "outputs": [
        {
          "output_type": "stream",
          "name": "stdout",
          "text": [
            "0\n",
            "1\n",
            "2\n"
          ]
        }
      ]
    },
    {
      "cell_type": "markdown",
      "source": [
        "**continue le 4 lai skip garndinxa**"
      ],
      "metadata": {
        "id": "E2uDA3SFJbnY"
      }
    },
    {
      "cell_type": "code",
      "source": [
        "for index in range(8):\n",
        "    if index==4:\n",
        "        continue\n",
        "    print(index)"
      ],
      "metadata": {
        "colab": {
          "base_uri": "https://localhost:8080/"
        },
        "id": "sXDBxVUoI4D3",
        "outputId": "4843d7df-84e0-44f9-ada8-1efe1c145899"
      },
      "execution_count": null,
      "outputs": [
        {
          "output_type": "stream",
          "name": "stdout",
          "text": [
            "0\n",
            "1\n",
            "2\n",
            "3\n",
            "5\n",
            "6\n",
            "7\n"
          ]
        }
      ]
    },
    {
      "cell_type": "markdown",
      "source": [
        "**SLICING IN LIST**"
      ],
      "metadata": {
        "id": "xsr6uNTGJ7gn"
      }
    },
    {
      "cell_type": "code",
      "source": [
        "cars=['riya','rita']"
      ],
      "metadata": {
        "id": "X4F0nW4iJMgX"
      },
      "execution_count": null,
      "outputs": []
    },
    {
      "cell_type": "code",
      "source": [
        "cars[1]"
      ],
      "metadata": {
        "colab": {
          "base_uri": "https://localhost:8080/",
          "height": 36
        },
        "id": "1LGsNrHKJxJH",
        "outputId": "cebda65a-41d9-4697-8610-c13b0878d414"
      },
      "execution_count": null,
      "outputs": [
        {
          "output_type": "execute_result",
          "data": {
            "text/plain": [
              "'rita'"
            ],
            "application/vnd.google.colaboratory.intrinsic+json": {
              "type": "string"
            }
          },
          "metadata": {},
          "execution_count": 64
        }
      ]
    },
    {
      "cell_type": "code",
      "source": [
        "\"ram\"+'sita'# string lai jodxa"
      ],
      "metadata": {
        "colab": {
          "base_uri": "https://localhost:8080/",
          "height": 36
        },
        "id": "bPrqy0szJzTK",
        "outputId": "925e03c7-d321-46ae-af9e-d7614ef1eeeb"
      },
      "execution_count": null,
      "outputs": [
        {
          "output_type": "execute_result",
          "data": {
            "text/plain": [
              "'ramsita'"
            ],
            "application/vnd.google.colaboratory.intrinsic+json": {
              "type": "string"
            }
          },
          "metadata": {},
          "execution_count": 66
        }
      ]
    },
    {
      "cell_type": "code",
      "source": [
        "'ram'*2"
      ],
      "metadata": {
        "colab": {
          "base_uri": "https://localhost:8080/",
          "height": 36
        },
        "id": "GTIzuE1yKJDb",
        "outputId": "666ac681-9c59-4c85-a27c-06678fd0fd9a"
      },
      "execution_count": null,
      "outputs": [
        {
          "output_type": "execute_result",
          "data": {
            "text/plain": [
              "'ramram'"
            ],
            "application/vnd.google.colaboratory.intrinsic+json": {
              "type": "string"
            }
          },
          "metadata": {},
          "execution_count": 67
        }
      ]
    },
    {
      "cell_type": "code",
      "source": [
        "'ram'+'1'"
      ],
      "metadata": {
        "colab": {
          "base_uri": "https://localhost:8080/",
          "height": 36
        },
        "id": "k3ChuB2yKPF-",
        "outputId": "f59dfe92-e14a-4d96-83fe-15dafac0eceb"
      },
      "execution_count": null,
      "outputs": [
        {
          "output_type": "execute_result",
          "data": {
            "text/plain": [
              "'ram1'"
            ],
            "application/vnd.google.colaboratory.intrinsic+json": {
              "type": "string"
            }
          },
          "metadata": {},
          "execution_count": 69
        }
      ]
    },
    {
      "cell_type": "code",
      "source": [
        "'ram'+1 # string ra integer lai add gardaina"
      ],
      "metadata": {
        "colab": {
          "base_uri": "https://localhost:8080/",
          "height": 169
        },
        "id": "8Hz7yLX1KR5g",
        "outputId": "ed319356-a2aa-48f4-d3d8-0a06a60ac6db"
      },
      "execution_count": null,
      "outputs": [
        {
          "output_type": "error",
          "ename": "TypeError",
          "evalue": "ignored",
          "traceback": [
            "\u001b[0;31m---------------------------------------------------------------------------\u001b[0m",
            "\u001b[0;31mTypeError\u001b[0m                                 Traceback (most recent call last)",
            "\u001b[0;32m<ipython-input-70-cb0d36e3f1c1>\u001b[0m in \u001b[0;36m<cell line: 1>\u001b[0;34m()\u001b[0m\n\u001b[0;32m----> 1\u001b[0;31m \u001b[0;34m'ram'\u001b[0m\u001b[0;34m+\u001b[0m\u001b[0;36m1\u001b[0m\u001b[0;34m\u001b[0m\u001b[0;34m\u001b[0m\u001b[0m\n\u001b[0m",
            "\u001b[0;31mTypeError\u001b[0m: can only concatenate str (not \"int\") to str"
          ]
        }
      ]
    },
    {
      "cell_type": "markdown",
      "source": [
        "**PYTHON IS A IMMUTABLE DATATYPE**"
      ],
      "metadata": {
        "id": "swAIJoXxK7WI"
      }
    },
    {
      "cell_type": "code",
      "source": [
        "name='riy@'"
      ],
      "metadata": {
        "id": "Zg135CD8KWWM"
      },
      "execution_count": null,
      "outputs": []
    },
    {
      "cell_type": "code",
      "source": [
        "'riy@'==\"riya\""
      ],
      "metadata": {
        "colab": {
          "base_uri": "https://localhost:8080/"
        },
        "id": "D9WH0PYUKs1j",
        "outputId": "8d6eee77-e2b1-493f-e728-174096d2fd36"
      },
      "execution_count": null,
      "outputs": [
        {
          "output_type": "execute_result",
          "data": {
            "text/plain": [
              "False"
            ]
          },
          "metadata": {},
          "execution_count": 73
        }
      ]
    },
    {
      "cell_type": "code",
      "source": [
        "name[3]='a'"
      ],
      "metadata": {
        "colab": {
          "base_uri": "https://localhost:8080/",
          "height": 169
        },
        "id": "KunVXdhjKxok",
        "outputId": "6e95c149-5e39-418b-b039-9cf7af5090be"
      },
      "execution_count": null,
      "outputs": [
        {
          "output_type": "error",
          "ename": "TypeError",
          "evalue": "ignored",
          "traceback": [
            "\u001b[0;31m---------------------------------------------------------------------------\u001b[0m",
            "\u001b[0;31mTypeError\u001b[0m                                 Traceback (most recent call last)",
            "\u001b[0;32m<ipython-input-74-16bb1d17d283>\u001b[0m in \u001b[0;36m<cell line: 1>\u001b[0;34m()\u001b[0m\n\u001b[0;32m----> 1\u001b[0;31m \u001b[0mname\u001b[0m\u001b[0;34m[\u001b[0m\u001b[0;36m3\u001b[0m\u001b[0;34m]\u001b[0m\u001b[0;34m=\u001b[0m\u001b[0;34m'a'\u001b[0m\u001b[0;34m\u001b[0m\u001b[0;34m\u001b[0m\u001b[0m\n\u001b[0m",
            "\u001b[0;31mTypeError\u001b[0m: 'str' object does not support item assignment"
          ]
        }
      ]
    },
    {
      "cell_type": "markdown",
      "source": [
        "**IMMUTABLE DATATYPE HUDA STRING METHOD USE GARNE**"
      ],
      "metadata": {
        "id": "F3FQhYJyLE5H"
      }
    },
    {
      "cell_type": "code",
      "source": [
        "name='riy@'\n",
        "id(name)"
      ],
      "metadata": {
        "colab": {
          "base_uri": "https://localhost:8080/"
        },
        "id": "lsKiDi3cLxXw",
        "outputId": "98482ad4-096a-4ced-f65a-c8e6eec5f616"
      },
      "execution_count": null,
      "outputs": [
        {
          "output_type": "execute_result",
          "data": {
            "text/plain": [
              "140330662563504"
            ]
          },
          "metadata": {},
          "execution_count": 78
        }
      ]
    },
    {
      "cell_type": "code",
      "source": [
        "name='riy@'\n",
        "name.replace(\"@\",\"a\") # so as python is immutabel yesari hamile kunai pani kura lai replce garda tyo arko memory loacation ma gayera basxa"
      ],
      "metadata": {
        "colab": {
          "base_uri": "https://localhost:8080/",
          "height": 36
        },
        "id": "e06Rz0XxK4kZ",
        "outputId": "72e9f681-90ad-40e6-8a95-7d45f352b97e"
      },
      "execution_count": null,
      "outputs": [
        {
          "output_type": "execute_result",
          "data": {
            "text/plain": [
              "'riya'"
            ],
            "application/vnd.google.colaboratory.intrinsic+json": {
              "type": "string"
            }
          },
          "metadata": {},
          "execution_count": 79
        }
      ]
    },
    {
      "cell_type": "code",
      "source": [
        "id(name) # last ko digit different xa diff memory location ma gayera baseko"
      ],
      "metadata": {
        "colab": {
          "base_uri": "https://localhost:8080/"
        },
        "id": "FZChqrwLLVKo",
        "outputId": "096237ff-ea14-4f22-ec19-1c5e3bd69817"
      },
      "execution_count": null,
      "outputs": [
        {
          "output_type": "execute_result",
          "data": {
            "text/plain": [
              "140331283992944"
            ]
          },
          "metadata": {},
          "execution_count": 80
        }
      ]
    },
    {
      "cell_type": "markdown",
      "source": [
        "**REGEX**"
      ],
      "metadata": {
        "id": "0PYZnKqGMZpC"
      }
    },
    {
      "cell_type": "code",
      "source": [
        "msg='happy new year'"
      ],
      "metadata": {
        "id": "VhKj7KHkMMgy"
      },
      "execution_count": null,
      "outputs": []
    },
    {
      "cell_type": "code",
      "source": [
        "msg.replace('happy','fantastic')"
      ],
      "metadata": {
        "colab": {
          "base_uri": "https://localhost:8080/",
          "height": 36
        },
        "id": "TpLsZpceMTXp",
        "outputId": "46d1e9b9-bb95-4d2d-e1f6-ed9b4f590571"
      },
      "execution_count": null,
      "outputs": [
        {
          "output_type": "execute_result",
          "data": {
            "text/plain": [
              "'fantastic new year'"
            ],
            "application/vnd.google.colaboratory.intrinsic+json": {
              "type": "string"
            }
          },
          "metadata": {},
          "execution_count": 83
        }
      ]
    },
    {
      "cell_type": "markdown",
      "source": [
        "**UPPER AND LOWER**"
      ],
      "metadata": {
        "id": "DEKA5nWkMhGa"
      }
    },
    {
      "cell_type": "code",
      "source": [
        "m='helloworld'"
      ],
      "metadata": {
        "id": "YJz769RUMXfT"
      },
      "execution_count": null,
      "outputs": []
    },
    {
      "cell_type": "code",
      "source": [
        "m.upper()"
      ],
      "metadata": {
        "colab": {
          "base_uri": "https://localhost:8080/",
          "height": 36
        },
        "id": "zr_gZAZFMnxH",
        "outputId": "9a455bed-eba6-4f5f-9e5e-68f6d4d55887"
      },
      "execution_count": null,
      "outputs": [
        {
          "output_type": "execute_result",
          "data": {
            "text/plain": [
              "'HELLOWORLD'"
            ],
            "application/vnd.google.colaboratory.intrinsic+json": {
              "type": "string"
            }
          },
          "metadata": {},
          "execution_count": 85
        }
      ]
    },
    {
      "cell_type": "code",
      "source": [
        "m.lower()"
      ],
      "metadata": {
        "colab": {
          "base_uri": "https://localhost:8080/",
          "height": 36
        },
        "id": "JtD8c70mMpPb",
        "outputId": "a62a4427-23b0-4d6c-a798-ba8218bc8fc5"
      },
      "execution_count": null,
      "outputs": [
        {
          "output_type": "execute_result",
          "data": {
            "text/plain": [
              "'helloworld'"
            ],
            "application/vnd.google.colaboratory.intrinsic+json": {
              "type": "string"
            }
          },
          "metadata": {},
          "execution_count": 86
        }
      ]
    },
    {
      "cell_type": "markdown",
      "source": [
        "**COUNTING UPPER CASE AND LOWER CASE**"
      ],
      "metadata": {
        "id": "x09-0HKyNiYi"
      }
    },
    {
      "cell_type": "code",
      "source": [
        "def upperlower(word):\n",
        "    upper=0\n",
        "    lower=0\n",
        "    for i in word:\n",
        "        if i.isupper():\n",
        "            upper+=1\n",
        "        else:\n",
        "            lower+=1\n",
        "    print(\"the upper case is :\",upper)\n",
        "    print(\"the lower case is :\",lower)            "
      ],
      "metadata": {
        "id": "ojYlqo_cMrak"
      },
      "execution_count": null,
      "outputs": []
    },
    {
      "cell_type": "code",
      "source": [
        "word='riYABHaTtA'\n",
        "print(upperlower(word))"
      ],
      "metadata": {
        "colab": {
          "base_uri": "https://localhost:8080/"
        },
        "id": "XDdof0QbNLAH",
        "outputId": "58cd4ab9-990d-4915-be6b-610905d4cb08"
      },
      "execution_count": null,
      "outputs": [
        {
          "output_type": "stream",
          "name": "stdout",
          "text": [
            "the upper case is : 6\n",
            "the lower case is : 4\n",
            "None\n"
          ]
        }
      ]
    },
    {
      "cell_type": "markdown",
      "source": [
        "**TITLE**"
      ],
      "metadata": {
        "id": "Zm82qc2BOB2a"
      }
    },
    {
      "cell_type": "code",
      "source": [
        "msg='RiyaBhaTTA'\n",
        "msg.title()"
      ],
      "metadata": {
        "colab": {
          "base_uri": "https://localhost:8080/",
          "height": 36
        },
        "id": "Y8KKR8lSNz63",
        "outputId": "8c50b2ae-822a-4aa7-f3e0-0a9c03a6db4d"
      },
      "execution_count": null,
      "outputs": [
        {
          "output_type": "execute_result",
          "data": {
            "text/plain": [
              "'Riyabhatta'"
            ],
            "application/vnd.google.colaboratory.intrinsic+json": {
              "type": "string"
            }
          },
          "metadata": {},
          "execution_count": 94
        }
      ]
    },
    {
      "cell_type": "markdown",
      "source": [
        "**STRIP**"
      ],
      "metadata": {
        "id": "AQKn5icgO2L2"
      }
    },
    {
      "cell_type": "code",
      "source": [
        "w=' hello world  '"
      ],
      "metadata": {
        "id": "4hUlmkVqOAHM"
      },
      "execution_count": null,
      "outputs": []
    },
    {
      "cell_type": "code",
      "source": [
        "w.strip() # quotation mark najjek vako space ghatauxa"
      ],
      "metadata": {
        "colab": {
          "base_uri": "https://localhost:8080/",
          "height": 36
        },
        "id": "HYkTkED_OV9_",
        "outputId": "5539eb65-b4bb-4d34-d71a-3caaac5517d0"
      },
      "execution_count": null,
      "outputs": [
        {
          "output_type": "execute_result",
          "data": {
            "text/plain": [
              "'hello world'"
            ],
            "application/vnd.google.colaboratory.intrinsic+json": {
              "type": "string"
            }
          },
          "metadata": {},
          "execution_count": 97
        }
      ]
    },
    {
      "cell_type": "code",
      "source": [
        "w.lstrip() # left bata space ghataunxa"
      ],
      "metadata": {
        "colab": {
          "base_uri": "https://localhost:8080/",
          "height": 36
        },
        "id": "EV9x_VH4OXoY",
        "outputId": "c6b1b63a-a6c7-4c06-e457-992249bf7ac4"
      },
      "execution_count": null,
      "outputs": [
        {
          "output_type": "execute_result",
          "data": {
            "text/plain": [
              "'hello world  '"
            ],
            "application/vnd.google.colaboratory.intrinsic+json": {
              "type": "string"
            }
          },
          "metadata": {},
          "execution_count": 99
        }
      ]
    },
    {
      "cell_type": "code",
      "source": [
        "w.rstrip() # right bata space ghataunxa"
      ],
      "metadata": {
        "colab": {
          "base_uri": "https://localhost:8080/",
          "height": 36
        },
        "id": "a1_HnN2_OgQv",
        "outputId": "74172833-59bd-47a3-d8a1-3d81d96b031c"
      },
      "execution_count": null,
      "outputs": [
        {
          "output_type": "execute_result",
          "data": {
            "text/plain": [
              "' hello world'"
            ],
            "application/vnd.google.colaboratory.intrinsic+json": {
              "type": "string"
            }
          },
          "metadata": {},
          "execution_count": 100
        }
      ]
    },
    {
      "cell_type": "markdown",
      "source": [
        "**SPLIT**"
      ],
      "metadata": {
        "id": "fI4lct_iWhTt"
      }
    },
    {
      "cell_type": "code",
      "source": [
        "txt='hello world'\n",
        "txt.split()"
      ],
      "metadata": {
        "colab": {
          "base_uri": "https://localhost:8080/"
        },
        "id": "B77HxJySOjbO",
        "outputId": "d8cfd81f-b012-4241-ee6c-5303d85be04f"
      },
      "execution_count": null,
      "outputs": [
        {
          "output_type": "execute_result",
          "data": {
            "text/plain": [
              "['hello', 'world']"
            ]
          },
          "metadata": {},
          "execution_count": 101
        }
      ]
    },
    {
      "cell_type": "code",
      "source": [
        "txt =\"I like orange apple banana and kiwi\"\n",
        "select= txt.strip(\"I like\")\n",
        "msg= select.strip(\"\")\n",
        "print(msg)\n",
        "\n"
      ],
      "metadata": {
        "id": "J2BJV760l5aG",
        "colab": {
          "base_uri": "https://localhost:8080/"
        },
        "outputId": "e6239232-1759-45a3-f6ed-cdd50b7caaff"
      },
      "execution_count": null,
      "outputs": [
        {
          "output_type": "stream",
          "name": "stdout",
          "text": [
            "orange apple banana and kiw\n"
          ]
        }
      ]
    },
    {
      "cell_type": "code",
      "source": [
        "txt.lower()"
      ],
      "metadata": {
        "colab": {
          "base_uri": "https://localhost:8080/",
          "height": 36
        },
        "id": "RGBPup7PWOR2",
        "outputId": "bba918e5-3c83-4604-d184-bb02ee5dbc2a"
      },
      "execution_count": null,
      "outputs": [
        {
          "output_type": "execute_result",
          "data": {
            "text/plain": [
              "'i like orange apple banana and kiwi'"
            ],
            "application/vnd.google.colaboratory.intrinsic+json": {
              "type": "string"
            }
          },
          "metadata": {},
          "execution_count": 108
        }
      ]
    },
    {
      "cell_type": "markdown",
      "source": [
        "**LIST**"
      ],
      "metadata": {
        "id": "jRBnAeJhaFDk"
      }
    },
    {
      "cell_type": "code",
      "source": [
        "def math(dat):\n",
        "    mean=sum(dat)/len(dat)\n",
        "    mean=round(mean,2)\n",
        "    print(f\"the mean is {mean}\")"
      ],
      "metadata": {
        "id": "fjFczjdmY-7x"
      },
      "execution_count": null,
      "outputs": []
    },
    {
      "cell_type": "code",
      "source": [
        "dat=[2,3,4]\n",
        "print(math(dat))"
      ],
      "metadata": {
        "colab": {
          "base_uri": "https://localhost:8080/"
        },
        "id": "o4qvPqeaZR2l",
        "outputId": "abafc146-e2ff-4e87-9b9c-ca0b1f7dd89c"
      },
      "execution_count": null,
      "outputs": [
        {
          "output_type": "stream",
          "name": "stdout",
          "text": [
            "the mean is 3.0\n",
            "None\n"
          ]
        }
      ]
    },
    {
      "cell_type": "code",
      "source": [
        "dat=[10,5,6,3,8,4,2]\n",
        "print(math(dat))"
      ],
      "metadata": {
        "colab": {
          "base_uri": "https://localhost:8080/"
        },
        "id": "6_y9ZiDSZYOF",
        "outputId": "d1eef014-1435-41cd-a79b-8d7c2fb11171"
      },
      "execution_count": null,
      "outputs": [
        {
          "output_type": "stream",
          "name": "stdout",
          "text": [
            "the mean is 5.43\n",
            "None\n"
          ]
        }
      ]
    },
    {
      "cell_type": "markdown",
      "source": [
        "**class 8 ko list (ass) bata rotation wala solve vako xaina tyo ek dam imp xa interview question ho so email bata solve gara**"
      ],
      "metadata": {
        "id": "U6-vYqDParsy"
      }
    },
    {
      "cell_type": "markdown",
      "source": [
        "**LOOP IN PYTHON**"
      ],
      "metadata": {
        "id": "fupVBMqCbx74"
      }
    },
    {
      "cell_type": "code",
      "source": [
        "cars=['merceds','bmw']\n",
        "for item in cars:\n",
        "    item =item.upper()\n",
        "    print(item)"
      ],
      "metadata": {
        "colab": {
          "base_uri": "https://localhost:8080/"
        },
        "id": "7ypiKQgxa1Qc",
        "outputId": "15e7d532-7a2c-4077-843a-62f399775a75"
      },
      "execution_count": null,
      "outputs": [
        {
          "output_type": "stream",
          "name": "stdout",
          "text": [
            "MERCEDS\n",
            "BMW\n"
          ]
        }
      ]
    },
    {
      "cell_type": "markdown",
      "source": [
        "**membership operator- (in and not in)**"
      ],
      "metadata": {
        "id": "CbDKIPgZcmnX"
      }
    },
    {
      "cell_type": "code",
      "source": [
        "cars=['mercedes','bmw','tesla']"
      ],
      "metadata": {
        "id": "k1ad2z9OcqOS"
      },
      "execution_count": null,
      "outputs": []
    },
    {
      "cell_type": "code",
      "source": [
        "'bmw' in cars"
      ],
      "metadata": {
        "colab": {
          "base_uri": "https://localhost:8080/"
        },
        "id": "TDuM3sO-cueE",
        "outputId": "27a9a9fb-81e6-43b4-8c53-7bcb4ebad676"
      },
      "execution_count": null,
      "outputs": [
        {
          "output_type": "execute_result",
          "data": {
            "text/plain": [
              "True"
            ]
          },
          "metadata": {},
          "execution_count": 132
        }
      ]
    },
    {
      "cell_type": "code",
      "source": [
        "'bmw' not in cars"
      ],
      "metadata": {
        "colab": {
          "base_uri": "https://localhost:8080/"
        },
        "id": "dUCqD8-rcxUw",
        "outputId": "982379e2-2132-4f42-9373-b9b5fff8317c"
      },
      "execution_count": null,
      "outputs": [
        {
          "output_type": "execute_result",
          "data": {
            "text/plain": [
              "False"
            ]
          },
          "metadata": {},
          "execution_count": 133
        }
      ]
    },
    {
      "cell_type": "markdown",
      "source": [
        "**indexing in list-(list ma add and remove garna milxa)**"
      ],
      "metadata": {
        "id": "45wgSvCqdedX"
      }
    },
    {
      "cell_type": "code",
      "source": [
        "cars=['mercedes','bmw','tesla']"
      ],
      "metadata": {
        "id": "QiXdTA2gdLwe"
      },
      "execution_count": null,
      "outputs": []
    },
    {
      "cell_type": "code",
      "source": [
        "cars[1]"
      ],
      "metadata": {
        "colab": {
          "base_uri": "https://localhost:8080/",
          "height": 36
        },
        "id": "S3MHn8TIdOJM",
        "outputId": "b366d379-75b7-467c-f166-113d7b480d15"
      },
      "execution_count": null,
      "outputs": [
        {
          "output_type": "execute_result",
          "data": {
            "text/plain": [
              "'bmw'"
            ],
            "application/vnd.google.colaboratory.intrinsic+json": {
              "type": "string"
            }
          },
          "metadata": {},
          "execution_count": 135
        }
      ]
    },
    {
      "cell_type": "code",
      "source": [
        "cars[1]='roche' # python ma garna mildaina telai replace matra garna milxa in string "
      ],
      "metadata": {
        "id": "UAH_jT30dP4j"
      },
      "execution_count": null,
      "outputs": []
    },
    {
      "cell_type": "code",
      "source": [
        "cars"
      ],
      "metadata": {
        "colab": {
          "base_uri": "https://localhost:8080/"
        },
        "id": "-FAg5Y6ddbIA",
        "outputId": "2925ecd7-dac8-4929-8dd4-c8815982ce9f"
      },
      "execution_count": null,
      "outputs": [
        {
          "output_type": "execute_result",
          "data": {
            "text/plain": [
              "['mercedes', 'roche', 'tesla']"
            ]
          },
          "metadata": {},
          "execution_count": 137
        }
      ]
    },
    {
      "cell_type": "markdown",
      "source": [
        "**.remove()**"
      ],
      "metadata": {
        "id": "Y7BMrkCqepn8"
      }
    },
    {
      "cell_type": "code",
      "source": [
        "cars.remove('roche')"
      ],
      "metadata": {
        "id": "qsIGHAKgdcje"
      },
      "execution_count": null,
      "outputs": []
    },
    {
      "cell_type": "code",
      "source": [
        "cars"
      ],
      "metadata": {
        "colab": {
          "base_uri": "https://localhost:8080/"
        },
        "id": "sY1_6QWOdtSK",
        "outputId": "138311e4-b9e9-4a0d-8c1c-c72bb99208be"
      },
      "execution_count": null,
      "outputs": [
        {
          "output_type": "execute_result",
          "data": {
            "text/plain": [
              "['mercedes', 'tesla']"
            ]
          },
          "metadata": {},
          "execution_count": 139
        }
      ]
    },
    {
      "cell_type": "code",
      "source": [
        "fruits=['apple','banana','mango','ornage','kiwi','mango']\n",
        "fruits[1:3]=['blackcuuruent','watermelon']\n",
        "print(fruits)"
      ],
      "metadata": {
        "colab": {
          "base_uri": "https://localhost:8080/"
        },
        "id": "7NZINpJrx95e",
        "outputId": "937fd310-8422-4d6a-daf2-28925eb30d15"
      },
      "execution_count": null,
      "outputs": [
        {
          "output_type": "stream",
          "name": "stdout",
          "text": [
            "['apple', 'blackcuuruent', 'watermelon', 'ornage', 'kiwi', 'mango']\n"
          ]
        }
      ]
    },
    {
      "cell_type": "markdown",
      "source": [
        "**.insert()**"
      ],
      "metadata": {
        "id": "Eu7WjThzebZ9"
      }
    },
    {
      "cell_type": "code",
      "source": [
        "fruits=['apple','banana','mango','ornage','kiwi','mango']\n",
        "fruits.insert(1,'litchi')"
      ],
      "metadata": {
        "id": "UnJyyY3seS3j"
      },
      "execution_count": null,
      "outputs": []
    },
    {
      "cell_type": "code",
      "source": [
        "fruits"
      ],
      "metadata": {
        "colab": {
          "base_uri": "https://localhost:8080/"
        },
        "id": "QO1ovTvceYBW",
        "outputId": "8441fdcf-65cf-43a0-d7fd-a42b1e4c042d"
      },
      "execution_count": null,
      "outputs": [
        {
          "output_type": "execute_result",
          "data": {
            "text/plain": [
              "['apple', 'litchi', 'banana', 'mango', 'ornage', 'kiwi', 'mango']"
            ]
          },
          "metadata": {},
          "execution_count": 142
        }
      ]
    },
    {
      "cell_type": "markdown",
      "source": [
        "**.pop()**"
      ],
      "metadata": {
        "id": "66So6qiMeiJk"
      }
    },
    {
      "cell_type": "code",
      "source": [
        "fruits.pop()"
      ],
      "metadata": {
        "colab": {
          "base_uri": "https://localhost:8080/",
          "height": 36
        },
        "id": "zwI-By9veZpZ",
        "outputId": "8eac95ce-8212-47ec-e15b-8b0314b86f41"
      },
      "execution_count": null,
      "outputs": [
        {
          "output_type": "execute_result",
          "data": {
            "text/plain": [
              "'mango'"
            ],
            "application/vnd.google.colaboratory.intrinsic+json": {
              "type": "string"
            }
          },
          "metadata": {},
          "execution_count": 143
        }
      ]
    },
    {
      "cell_type": "markdown",
      "source": [
        "**.append()**"
      ],
      "metadata": {
        "id": "GbQvkOO1eva6"
      }
    },
    {
      "cell_type": "code",
      "source": [
        "name=[]\n",
        "name.append('riya')\n",
        "name.append('rita')"
      ],
      "metadata": {
        "id": "axJTy6OfemDn"
      },
      "execution_count": null,
      "outputs": []
    },
    {
      "cell_type": "code",
      "source": [
        "name"
      ],
      "metadata": {
        "colab": {
          "base_uri": "https://localhost:8080/"
        },
        "id": "2B-4WUBoe1js",
        "outputId": "01378f21-8a57-4e76-acad-8bdd91c0cb7e"
      },
      "execution_count": null,
      "outputs": [
        {
          "output_type": "execute_result",
          "data": {
            "text/plain": [
              "['riya', 'rita']"
            ]
          },
          "metadata": {},
          "execution_count": 147
        }
      ]
    },
    {
      "cell_type": "code",
      "source": [
        "n_name=[]\n",
        "for index in range(2):\n",
        "    name=input(\"enter a name\")\n",
        "    n_name.append(name)\n",
        "    print(n_name)"
      ],
      "metadata": {
        "colab": {
          "base_uri": "https://localhost:8080/"
        },
        "id": "doalOni6fncb",
        "outputId": "6fd2f12f-06dd-4f92-f902-e9acf23cbad5"
      },
      "execution_count": null,
      "outputs": [
        {
          "output_type": "stream",
          "name": "stdout",
          "text": [
            "enter a name riya\n",
            "[' riya']\n",
            "enter a namegita\n",
            "[' riya', 'gita']\n"
          ]
        }
      ]
    },
    {
      "cell_type": "markdown",
      "source": [
        "**extend()**"
      ],
      "metadata": {
        "id": "gftNvXpUgoUU"
      }
    },
    {
      "cell_type": "code",
      "source": [
        "fruit=['apple','banana']\n",
        "vegetable=['Karela','Bhanta','Ghiraula','Lauka','Potato']"
      ],
      "metadata": {
        "id": "cPOiuU92jOK0"
      },
      "execution_count": null,
      "outputs": []
    },
    {
      "cell_type": "code",
      "source": [
        "fruit+vegetable"
      ],
      "metadata": {
        "colab": {
          "base_uri": "https://localhost:8080/"
        },
        "id": "jd9-4GFqgRpj",
        "outputId": "91252065-7c44-455c-abeb-c7f5fe507ea7"
      },
      "execution_count": null,
      "outputs": [
        {
          "output_type": "execute_result",
          "data": {
            "text/plain": [
              "['apple', 'banana', 'Karela', 'Bhanta', 'Ghiraula', 'Lauka', 'Potato']"
            ]
          },
          "metadata": {},
          "execution_count": 153
        }
      ]
    },
    {
      "cell_type": "code",
      "source": [
        "fruit=['apple','banana']\n",
        "vegetable=['Karela','Bhanta','Ghiraula','Lauka','Potato']\n",
        "fruit.extend(vegetable)"
      ],
      "metadata": {
        "id": "jEC1YfWhgYpd"
      },
      "execution_count": null,
      "outputs": []
    },
    {
      "cell_type": "code",
      "source": [
        "fruit"
      ],
      "metadata": {
        "colab": {
          "base_uri": "https://localhost:8080/"
        },
        "id": "1t-R6GK5geFs",
        "outputId": "39a5143a-874f-4693-b680-efcd55b1ff3e"
      },
      "execution_count": null,
      "outputs": [
        {
          "output_type": "execute_result",
          "data": {
            "text/plain": [
              "['apple', 'banana', 'Karela', 'Bhanta', 'Ghiraula', 'Lauka', 'Potato']"
            ]
          },
          "metadata": {},
          "execution_count": 155
        }
      ]
    },
    {
      "cell_type": "code",
      "source": [
        "vegetable"
      ],
      "metadata": {
        "colab": {
          "base_uri": "https://localhost:8080/"
        },
        "id": "Ei4XvaLxggRZ",
        "outputId": "bcfdfb52-145f-4c67-a3d0-321536724ece"
      },
      "execution_count": null,
      "outputs": [
        {
          "output_type": "execute_result",
          "data": {
            "text/plain": [
              "['Karela', 'Bhanta', 'Ghiraula', 'Lauka', 'Potato']"
            ]
          },
          "metadata": {},
          "execution_count": 157
        }
      ]
    },
    {
      "cell_type": "markdown",
      "source": [
        "**clear()**"
      ],
      "metadata": {
        "id": "vRyfh45pg2CV"
      }
    },
    {
      "cell_type": "code",
      "source": [
        "name=['riya']"
      ],
      "metadata": {
        "id": "_ETpRbMogi2q"
      },
      "execution_count": null,
      "outputs": []
    },
    {
      "cell_type": "code",
      "source": [
        "name.clear()"
      ],
      "metadata": {
        "id": "WZ47gm1bgx2c"
      },
      "execution_count": null,
      "outputs": []
    },
    {
      "cell_type": "code",
      "source": [
        "name"
      ],
      "metadata": {
        "colab": {
          "base_uri": "https://localhost:8080/"
        },
        "id": "dereDSAsgzfL",
        "outputId": "6b2e3e17-403b-4f0b-c413-6a5001e476fa"
      },
      "execution_count": null,
      "outputs": [
        {
          "output_type": "execute_result",
          "data": {
            "text/plain": [
              "[]"
            ]
          },
          "metadata": {},
          "execution_count": 160
        }
      ]
    },
    {
      "cell_type": "markdown",
      "source": [
        "**count()**"
      ],
      "metadata": {
        "id": "w5svVcuig-81"
      }
    },
    {
      "cell_type": "code",
      "source": [
        "# auta list ma kati choti aauta varivale repeat vako xa tyo denote garxa\n",
        "num=['1','2','3','4','5','6','7','8','9','1','2','1','1','4']\n",
        "num.count('1')"
      ],
      "metadata": {
        "colab": {
          "base_uri": "https://localhost:8080/"
        },
        "id": "zPkF61hJgOfO",
        "outputId": "4c699dfa-894f-4511-d72e-469c6d0b41a1"
      },
      "execution_count": null,
      "outputs": [
        {
          "output_type": "execute_result",
          "data": {
            "text/plain": [
              "4"
            ]
          },
          "metadata": {},
          "execution_count": 19
        }
      ]
    },
    {
      "cell_type": "markdown",
      "source": [
        "**reverse()**"
      ],
      "metadata": {
        "id": "LU9SmSxlhgUg"
      }
    },
    {
      "cell_type": "code",
      "source": [
        "\n",
        "num=['1','2','3','4','5','6','7','8','9','1','2','1','1','4']\n",
        "num.reverse()"
      ],
      "metadata": {
        "id": "wuJD1UFMhyH_"
      },
      "execution_count": null,
      "outputs": []
    },
    {
      "cell_type": "code",
      "source": [
        "num"
      ],
      "metadata": {
        "colab": {
          "base_uri": "https://localhost:8080/"
        },
        "id": "cXmIOG9DhedR",
        "outputId": "6ac451cc-d49c-414f-bde1-133d86ceaa48"
      },
      "execution_count": null,
      "outputs": [
        {
          "output_type": "execute_result",
          "data": {
            "text/plain": [
              "['4', '1', '1', '2', '1', '9', '8', '7', '6', '5', '4', '3', '2', '1']"
            ]
          },
          "metadata": {},
          "execution_count": 168
        }
      ]
    },
    {
      "cell_type": "markdown",
      "source": [
        "**copy()**"
      ],
      "metadata": {
        "id": "VfumhIBYhty7"
      }
    },
    {
      "cell_type": "code",
      "source": [
        "num.copy()"
      ],
      "metadata": {
        "colab": {
          "base_uri": "https://localhost:8080/"
        },
        "id": "OGbTSk2QhfQW",
        "outputId": "63d19151-ec23-41f3-b724-d1629069a854"
      },
      "execution_count": null,
      "outputs": [
        {
          "output_type": "execute_result",
          "data": {
            "text/plain": [
              "['4', '1', '1', '2', '1', '9', '8', '7', '6', '5', '4', '3', '2', '1']"
            ]
          },
          "metadata": {},
          "execution_count": 169
        }
      ]
    },
    {
      "cell_type": "markdown",
      "source": [
        "**sort()**"
      ],
      "metadata": {
        "id": "edvNumcuhwFk"
      }
    },
    {
      "cell_type": "code",
      "source": [
        "num.sort()"
      ],
      "metadata": {
        "id": "0Sobr8RvhodX"
      },
      "execution_count": null,
      "outputs": []
    },
    {
      "cell_type": "code",
      "source": [
        "num"
      ],
      "metadata": {
        "colab": {
          "base_uri": "https://localhost:8080/"
        },
        "id": "7XVXu4z6hp6s",
        "outputId": "d0784b06-fdad-4c24-f3ad-4cf4733cdc47"
      },
      "execution_count": null,
      "outputs": [
        {
          "output_type": "execute_result",
          "data": {
            "text/plain": [
              "['1', '1', '1', '1', '2', '2', '3', '4', '4', '5', '6', '7', '8', '9']"
            ]
          },
          "metadata": {},
          "execution_count": 171
        }
      ]
    },
    {
      "cell_type": "markdown",
      "source": [
        "**index()**"
      ],
      "metadata": {
        "id": "4W_0TVhAh_o7"
      }
    },
    {
      "cell_type": "code",
      "source": [
        "num.index('1')"
      ],
      "metadata": {
        "colab": {
          "base_uri": "https://localhost:8080/"
        },
        "id": "guQJrWHKhsHI",
        "outputId": "4cd8bca1-30ca-411b-9f00-4c5b5abc5958"
      },
      "execution_count": null,
      "outputs": [
        {
          "output_type": "execute_result",
          "data": {
            "text/plain": [
              "0"
            ]
          },
          "metadata": {},
          "execution_count": 172
        }
      ]
    },
    {
      "cell_type": "code",
      "source": [
        "num.index('1',1)"
      ],
      "metadata": {
        "colab": {
          "base_uri": "https://localhost:8080/"
        },
        "id": "9HauGOvPh3Zk",
        "outputId": "bf679235-d99c-439f-dc7f-ad60c791322b"
      },
      "execution_count": null,
      "outputs": [
        {
          "output_type": "execute_result",
          "data": {
            "text/plain": [
              "1"
            ]
          },
          "metadata": {},
          "execution_count": 174
        }
      ]
    },
    {
      "cell_type": "code",
      "source": [
        "num=[1,2,34]\n",
        "sq=[]\n",
        "cube=[]\n",
        "for item in num:\n",
        "    sq.append(item**2)\n",
        "    cube.append(item**3)"
      ],
      "metadata": {
        "id": "UUV5NMA2h6_z"
      },
      "execution_count": null,
      "outputs": []
    },
    {
      "cell_type": "code",
      "source": [
        "sq"
      ],
      "metadata": {
        "colab": {
          "base_uri": "https://localhost:8080/"
        },
        "id": "96CZ4C0yjKiK",
        "outputId": "1ad1d225-cac4-429d-afd3-e21937670630"
      },
      "execution_count": null,
      "outputs": [
        {
          "output_type": "execute_result",
          "data": {
            "text/plain": [
              "[1, 4, 1156]"
            ]
          },
          "metadata": {},
          "execution_count": 183
        }
      ]
    },
    {
      "cell_type": "code",
      "source": [
        "cube"
      ],
      "metadata": {
        "colab": {
          "base_uri": "https://localhost:8080/"
        },
        "id": "hT6qH8I9itp4",
        "outputId": "67eadb78-9f11-4460-ef37-1b1b5a62afde"
      },
      "execution_count": null,
      "outputs": [
        {
          "output_type": "execute_result",
          "data": {
            "text/plain": [
              "[1, 8, 27, 64]"
            ]
          },
          "metadata": {},
          "execution_count": 178
        }
      ]
    },
    {
      "cell_type": "markdown",
      "source": [
        "**LIST COMPREHENSION**"
      ],
      "metadata": {
        "id": "DqbariEujT6X"
      }
    },
    {
      "cell_type": "code",
      "source": [
        "[item **2 for item in num]"
      ],
      "metadata": {
        "colab": {
          "base_uri": "https://localhost:8080/"
        },
        "id": "xCnbuehPiukz",
        "outputId": "90763adc-eac9-4b3b-e2db-ef85e7783295"
      },
      "execution_count": null,
      "outputs": [
        {
          "output_type": "execute_result",
          "data": {
            "text/plain": [
              "[1, 4, 1156]"
            ]
          },
          "metadata": {},
          "execution_count": 184
        }
      ]
    },
    {
      "cell_type": "code",
      "source": [
        "name= ['RIYA','BHATTA']"
      ],
      "metadata": {
        "id": "PfO98jSUjRmy"
      },
      "execution_count": null,
      "outputs": []
    },
    {
      "cell_type": "code",
      "source": [
        "[item.lower() for item in name]"
      ],
      "metadata": {
        "colab": {
          "base_uri": "https://localhost:8080/"
        },
        "id": "9_jwL0IXjoJ9",
        "outputId": "b9944638-0a81-4e2f-b80e-865b01b55f45"
      },
      "execution_count": null,
      "outputs": [
        {
          "output_type": "execute_result",
          "data": {
            "text/plain": [
              "['riya', 'bhatta']"
            ]
          },
          "metadata": {},
          "execution_count": 187
        }
      ]
    },
    {
      "cell_type": "code",
      "source": [
        "num=[1,2,3,4]"
      ],
      "metadata": {
        "id": "G9RLLd1EjvnK"
      },
      "execution_count": null,
      "outputs": []
    },
    {
      "cell_type": "code",
      "source": [
        "[0 if item %2==0 else item for item in num]"
      ],
      "metadata": {
        "colab": {
          "base_uri": "https://localhost:8080/"
        },
        "id": "CYuvD9Igj0eB",
        "outputId": "c4f29286-8cc3-4e43-959d-58a9f8778036"
      },
      "execution_count": null,
      "outputs": [
        {
          "output_type": "execute_result",
          "data": {
            "text/plain": [
              "[1, 0, 3, 0]"
            ]
          },
          "metadata": {},
          "execution_count": 189
        }
      ]
    },
    {
      "cell_type": "code",
      "source": [
        "name=['riya','rita','sita']"
      ],
      "metadata": {
        "id": "lEhVXDV9j6Yv"
      },
      "execution_count": null,
      "outputs": []
    },
    {
      "cell_type": "code",
      "source": [
        "['ram' if item=='riya' else item for item in name]"
      ],
      "metadata": {
        "colab": {
          "base_uri": "https://localhost:8080/"
        },
        "id": "1juTGOJRj-5M",
        "outputId": "d0f760ae-f1b0-47d9-962d-b13d829b0d5a"
      },
      "execution_count": null,
      "outputs": [
        {
          "output_type": "execute_result",
          "data": {
            "text/plain": [
              "['ram', 'rita', 'sita']"
            ]
          },
          "metadata": {},
          "execution_count": 191
        }
      ]
    },
    {
      "cell_type": "code",
      "source": [
        "[x if x=='riya' else'ram' for x in name]"
      ],
      "metadata": {
        "colab": {
          "base_uri": "https://localhost:8080/"
        },
        "id": "fTmTZdCtkHWC",
        "outputId": "34993432-2de1-45a6-edc8-8b411f6635ec"
      },
      "execution_count": null,
      "outputs": [
        {
          "output_type": "execute_result",
          "data": {
            "text/plain": [
              "['riya', 'ram', 'ram']"
            ]
          },
          "metadata": {},
          "execution_count": 193
        }
      ]
    },
    {
      "cell_type": "markdown",
      "source": [
        "**TUPLE**"
      ],
      "metadata": {
        "id": "KQ0uCwaakeat"
      }
    },
    {
      "cell_type": "code",
      "source": [],
      "metadata": {
        "id": "doeWtp2OkPMi"
      },
      "execution_count": null,
      "outputs": []
    }
  ]
}